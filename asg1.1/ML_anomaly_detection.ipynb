{
 "cells": [
  {
   "cell_type": "code",
   "execution_count": 21,
   "metadata": {},
   "outputs": [
    {
     "ename": "SyntaxError",
     "evalue": "invalid syntax (<ipython-input-21-fb44940ecd7e>, line 1)",
     "output_type": "error",
     "traceback": [
      "\u001b[1;36m  File \u001b[1;32m\"<ipython-input-21-fb44940ecd7e>\"\u001b[1;36m, line \u001b[1;32m1\u001b[0m\n\u001b[1;33m    Name: Marcus Tan\u001b[0m\n\u001b[1;37m                   ^\u001b[0m\n\u001b[1;31mSyntaxError\u001b[0m\u001b[1;31m:\u001b[0m invalid syntax\n"
     ]
    }
   ],
   "source": [
    "# Name: Marcus Tan\n",
    "# Matric No.: A0149980N"
   ]
  },
  {
   "cell_type": "markdown",
   "metadata": {},
   "source": [
    "## Assignment 1: Anomaly Detection with Machine Learning\n",
    "\n",
    "Anomaly detection is widely used in behavioral analysis to determine types of anomaly occurring in a given data set. It’s applicable in domains such as fraud detection, intrusion detection, fault detection and system health monitoring in sensor networks. \n",
    "\n",
    "<figure>\n",
    "<center>\n",
    "<img src=\"https://thedatascientist.com/wp-content/uploads/2019/02/anomaly_detection-1024x683.png\"\n",
    "     alt=\"anomaly detection\"\n",
    "     width=\"375\" height=\"250\"/>\n",
    "</center>\n",
    "</figure>\n",
    "\n",
    "As anomalies are usually not predefined, and sicne its detection is highly dependent on historical data, machine learning is suitable for the task. The detection can be done in a supervised, semi-supervised and unsupervised manner.\n",
    "\n",
    "For a supervised approach, we need to know whether each observation/item/event is anomalous or regular. However, it's often unrealistic to obtain labels for anomalies. And even after that, there would be a problem of imbalanced learning since the portion of anomalies is always much smaller.\n",
    "\n",
    "A semi-supervised situation is where we only know which observations are regular, without information on the anomalies. In this case, the training objective is to find the similarity between a new data point to the training data which is all regular. Those who are least similar are considered anomalies.\n",
    "\n",
    "For an unsupervised approach, we don't have any labels, which is the most common case. The objective is to find the anomalies whose features differ from the normal observations significantly."
   ]
  },
  {
   "cell_type": "markdown",
   "metadata": {},
   "source": [
    "### Task:\n",
    "In this notebook, we will compare results for different ML algorithms in an anomaly detection task. \n",
    "\n",
    "You need to follow the steps below and complete code snippets:\n",
    "\n",
    "1. Read the given example in section 2.1;\n",
    "2. Complete the code in section 2.2 under instructions;\n",
    "3. Use what you just learned from the 2 steps above, and complete section 2.3 on your own.\n",
    "4. Use what you just learned from the NLP part to complete 2.4."
   ]
  },
  {
   "cell_type": "code",
   "execution_count": 1,
   "metadata": {},
   "outputs": [],
   "source": [
    "# Libraries\n",
    "%matplotlib inline\n",
    "\n",
    "import pandas as pd\n",
    "import numpy as np\n",
    "from matplotlib import pyplot as plt\n",
    "\n",
    "from sklearn.preprocessing import StandardScaler\n",
    "from sklearn.cluster import KMeans\n",
    "from sklearn.ensemble import IsolationForest\n",
    "from sklearn.svm import OneClassSVM\n",
    "\n",
    "from warnings import simplefilter\n",
    "simplefilter(action='ignore')"
   ]
  },
  {
   "cell_type": "markdown",
   "metadata": {},
   "source": [
    "### 1. Data\n",
    "\n",
    "\"ambient_temperature_system_failure.csv\": The hourly ambient temperature in an office (from July 14th 2013 to May 28th 2014), where anomalies are recorded. \n",
    "\n",
    "There are only 2 columns in the data: timestamp and the temperature value in Fahrenheit.\n",
    "\n",
    "As timestamp will be used as index, there is actually only one dimension of data."
   ]
  },
  {
   "cell_type": "code",
   "execution_count": 2,
   "metadata": {},
   "outputs": [],
   "source": [
    "# Download data to a dataframe\n",
    "df = pd.read_csv(\"temperature.csv\")"
   ]
  },
  {
   "cell_type": "markdown",
   "metadata": {},
   "source": [
    "Some basic EDA and plotting the original data:"
   ]
  },
  {
   "cell_type": "code",
   "execution_count": 3,
   "metadata": {
    "scrolled": true
   },
   "outputs": [
    {
     "data": {
      "text/html": [
       "<div>\n",
       "<style scoped>\n",
       "    .dataframe tbody tr th:only-of-type {\n",
       "        vertical-align: middle;\n",
       "    }\n",
       "\n",
       "    .dataframe tbody tr th {\n",
       "        vertical-align: top;\n",
       "    }\n",
       "\n",
       "    .dataframe thead th {\n",
       "        text-align: right;\n",
       "    }\n",
       "</style>\n",
       "<table border=\"1\" class=\"dataframe\">\n",
       "  <thead>\n",
       "    <tr style=\"text-align: right;\">\n",
       "      <th></th>\n",
       "      <th>timestamp</th>\n",
       "      <th>value</th>\n",
       "    </tr>\n",
       "  </thead>\n",
       "  <tbody>\n",
       "    <tr>\n",
       "      <th>0</th>\n",
       "      <td>2013-07-04 00:00:00</td>\n",
       "      <td>21.044908</td>\n",
       "    </tr>\n",
       "    <tr>\n",
       "      <th>1</th>\n",
       "      <td>2013-07-04 01:00:00</td>\n",
       "      <td>21.789015</td>\n",
       "    </tr>\n",
       "    <tr>\n",
       "      <th>2</th>\n",
       "      <td>2013-07-04 02:00:00</td>\n",
       "      <td>21.598781</td>\n",
       "    </tr>\n",
       "    <tr>\n",
       "      <th>3</th>\n",
       "      <td>2013-07-04 03:00:00</td>\n",
       "      <td>20.533000</td>\n",
       "    </tr>\n",
       "    <tr>\n",
       "      <th>4</th>\n",
       "      <td>2013-07-04 04:00:00</td>\n",
       "      <td>20.713084</td>\n",
       "    </tr>\n",
       "  </tbody>\n",
       "</table>\n",
       "</div>"
      ],
      "text/plain": [
       "             timestamp      value\n",
       "0  2013-07-04 00:00:00  21.044908\n",
       "1  2013-07-04 01:00:00  21.789015\n",
       "2  2013-07-04 02:00:00  21.598781\n",
       "3  2013-07-04 03:00:00  20.533000\n",
       "4  2013-07-04 04:00:00  20.713084"
      ]
     },
     "execution_count": 3,
     "metadata": {},
     "output_type": "execute_result"
    }
   ],
   "source": [
    "# Change temperature to Celsius\n",
    "df['value'] = (df['value'] - 32) * 5/9\n",
    "\n",
    "df.head()"
   ]
  },
  {
   "cell_type": "code",
   "execution_count": 4,
   "metadata": {},
   "outputs": [
    {
     "data": {
      "text/html": [
       "<div>\n",
       "<style scoped>\n",
       "    .dataframe tbody tr th:only-of-type {\n",
       "        vertical-align: middle;\n",
       "    }\n",
       "\n",
       "    .dataframe tbody tr th {\n",
       "        vertical-align: top;\n",
       "    }\n",
       "\n",
       "    .dataframe thead th {\n",
       "        text-align: right;\n",
       "    }\n",
       "</style>\n",
       "<table border=\"1\" class=\"dataframe\">\n",
       "  <thead>\n",
       "    <tr style=\"text-align: right;\">\n",
       "      <th></th>\n",
       "      <th>count</th>\n",
       "      <th>mean</th>\n",
       "      <th>std</th>\n",
       "      <th>min</th>\n",
       "      <th>25%</th>\n",
       "      <th>50%</th>\n",
       "      <th>75%</th>\n",
       "      <th>max</th>\n",
       "    </tr>\n",
       "  </thead>\n",
       "  <tbody>\n",
       "    <tr>\n",
       "      <th>value</th>\n",
       "      <td>7267.0</td>\n",
       "      <td>21.801352</td>\n",
       "      <td>2.359727</td>\n",
       "      <td>14.143559</td>\n",
       "      <td>20.205228</td>\n",
       "      <td>22.143607</td>\n",
       "      <td>23.572754</td>\n",
       "      <td>30.124007</td>\n",
       "    </tr>\n",
       "  </tbody>\n",
       "</table>\n",
       "</div>"
      ],
      "text/plain": [
       "        count       mean       std        min        25%        50%  \\\n",
       "value  7267.0  21.801352  2.359727  14.143559  20.205228  22.143607   \n",
       "\n",
       "             75%        max  \n",
       "value  23.572754  30.124007  "
      ]
     },
     "execution_count": 4,
     "metadata": {},
     "output_type": "execute_result"
    }
   ],
   "source": [
    "df.describe().T"
   ]
  },
  {
   "cell_type": "code",
   "execution_count": 5,
   "metadata": {
    "scrolled": true
   },
   "outputs": [
    {
     "name": "stdout",
     "output_type": "stream",
     "text": [
      "<class 'pandas.core.frame.DataFrame'>\n",
      "RangeIndex: 7267 entries, 0 to 7266\n",
      "Data columns (total 2 columns):\n",
      " #   Column     Non-Null Count  Dtype  \n",
      "---  ------     --------------  -----  \n",
      " 0   timestamp  7267 non-null   object \n",
      " 1   value      7267 non-null   float64\n",
      "dtypes: float64(1), object(1)\n",
      "memory usage: 113.7+ KB\n"
     ]
    }
   ],
   "source": [
    "df.info()"
   ]
  },
  {
   "cell_type": "markdown",
   "metadata": {},
   "source": [
    "As timestamp is string, we need to change it to epochtime later for easier processing and plotting."
   ]
  },
  {
   "cell_type": "code",
   "execution_count": 6,
   "metadata": {},
   "outputs": [
    {
     "data": {
      "text/plain": [
       "<matplotlib.axes._subplots.AxesSubplot at 0x19b7d733c48>"
      ]
     },
     "execution_count": 6,
     "metadata": {},
     "output_type": "execute_result"
    },
    {
     "data": {
      "image/png": "[encoded data removed]",
      "text/plain": [
       "<Figure size 720x360 with 1 Axes>"
      ]
     },
     "metadata": {
      "needs_background": "light"
     },
     "output_type": "display_data"
    }
   ],
   "source": [
    "# Plot the original data\n",
    "\n",
    "# Change datetime to epoch time (int) for data processing & modelling later\n",
    "df['timestamp'] = pd.to_datetime(df['timestamp'])\n",
    "df['time_epoch'] = df['timestamp'].astype(np.int64) // 100000000000\n",
    "df.plot(x='timestamp', y='value', figsize=(10,5))"
   ]
  },
  {
   "cell_type": "markdown",
   "metadata": {},
   "source": [
    "From the original plotting we can see some sudden spikes and dips, which denote anomalous. \n",
    "\n",
    "Please note that we use this dataset as an example for you to spot anomalies easily. In real life, with more columns as features (high dimensional), we cannot visualize anymore, let alone find anomalies just with our eyes."
   ]
  },
  {
   "cell_type": "markdown",
   "metadata": {},
   "source": [
    "### 2. Models"
   ]
  },
  {
   "cell_type": "markdown",
   "metadata": {},
   "source": [
    "#### 2.1 Clustering\n",
    "\n",
    "A simple clustering on the data. When grouping features, data points that are far away from the centroids are detected as anomalies. We use [k-means](https://jakevdp.github.io/PythonDataScienceHandbook/05.11-k-means.html) as an example.\n",
    "\n",
    "<font color=green>Note:</font> Section 2.1 is an example where you don't need to input any code."
   ]
  },
  {
   "cell_type": "code",
   "execution_count": 7,
   "metadata": {},
   "outputs": [],
   "source": [
    "# Return a series of distances between each data point and the closest centroid\n",
    "def getDistance(data, model):\n",
    "    distance = pd.Series()\n",
    "    for i in range(len(data)):\n",
    "        Xa = np.array(data.loc[i])\n",
    "        Xb = model.cluster_centers_[model.labels_[i]-1]\n",
    "        distance.at[i] = np.linalg.norm(Xa-Xb)\n",
    "    return distance"
   ]
  },
  {
   "cell_type": "code",
   "execution_count": 8,
   "metadata": {},
   "outputs": [],
   "source": [
    "# Standardize the data\n",
    "data = df[['value', 'time_epoch']]\n",
    "scaled = StandardScaler().fit_transform(data)\n",
    "data = pd.DataFrame(scaled)"
   ]
  },
  {
   "cell_type": "code",
   "execution_count": 9,
   "metadata": {},
   "outputs": [
    {
     "data": {
      "image/png": "[encoded data removed]",
      "text/plain": [
       "<Figure size 432x288 with 1 Axes>"
      ]
     },
     "metadata": {
      "needs_background": "light"
     },
     "output_type": "display_data"
    }
   ],
   "source": [
    "# Plot to find optimal k (elbow method)\n",
    "Sum_of_squared_distances = []\n",
    "km_models = []\n",
    "K = range(1, 20)\n",
    "for k in K:\n",
    "    km = KMeans(n_clusters=k).fit(data)\n",
    "    km_models.append(km)\n",
    "    Sum_of_squared_distances.append(km.inertia_)\n",
    "\n",
    "plt.plot(K, Sum_of_squared_distances, 'bx-')\n",
    "plt.xlabel('K')\n",
    "plt.ylabel('Sum of squared distances')\n",
    "plt.title('Elbow Method For Optimal k')\n",
    "plt.show()"
   ]
  },
  {
   "cell_type": "code",
   "execution_count": 10,
   "metadata": {
    "scrolled": true
   },
   "outputs": [
    {
     "data": {
      "image/png": "[encoded data removed]",
      "text/plain": [
       "<Figure size 720x360 with 1 Axes>"
      ]
     },
     "metadata": {
      "needs_background": "light"
     },
     "output_type": "display_data"
    }
   ],
   "source": [
    "# Anomly population estimated to: 1%\n",
    "# You can set to different values to view different results\n",
    "anomaly_fraction = 0.01\n",
    "\n",
    "# Choose k=3\n",
    "# You can set to different values to view different results\n",
    "distances = getDistance(data, km_models[2])\n",
    "number_of_anomalies = int(anomaly_fraction*len(data))\n",
    "\n",
    "# Farrest points are considered anomalies\n",
    "threshold = distances.nlargest(number_of_anomalies).min()\n",
    "df['anomaly'] = (distances >= threshold).astype(int)\n",
    "\n",
    "# Plot\n",
    "fig, ax = plt.subplots(figsize=(10, 5))\n",
    "a = df.loc[df['anomaly'] == 1, ['timestamp', 'value']]\n",
    "ax.plot(df['timestamp'], df['value'], color='blue')\n",
    "ax.scatter(a['timestamp'],a['value'], color='red')\n",
    "plt.show()"
   ]
  },
  {
   "cell_type": "markdown",
   "metadata": {},
   "source": [
    "As you can see, some spikes are detected as anomalies."
   ]
  },
  {
   "cell_type": "markdown",
   "metadata": {},
   "source": [
    "#### 2.2 Isolation Forest\n",
    "\n",
    "[Isolation Forest](https://cs.nju.edu.cn/zhouzh/zhouzh.files/publication/icdm08b.pdf) can be understood as an unsupervised random forest algorithm. We start by building multiple decision trees such that the trees isolate the observations in their leaves. Ideally, each leaf of the tree isolates exactly one observation from our dataset. The trees are being split randomly. We assume that if one observation is similar to others in our data set, it will take **more random splits** to perfectly isolate this observation, as opposed to isolating an anomaly.\n",
    "\n",
    "Since we have multiple decision trees, hence the isolation forest, we can calculate the average number of splits across all the trees that isolate the observation. The average number of splits is then used as a score, where the less splits the observation needs, the more likely it is to be anomalous."
   ]
  },
  {
   "cell_type": "code",
   "execution_count": 11,
   "metadata": {},
   "outputs": [
    {
     "data": {
      "text/plain": [
       "(7267, 4)"
      ]
     },
     "execution_count": 11,
     "metadata": {},
     "output_type": "execute_result"
    }
   ],
   "source": [
    "df.shape"
   ]
  },
  {
   "cell_type": "code",
   "execution_count": 12,
   "metadata": {
    "scrolled": false
   },
   "outputs": [
    {
     "data": {
      "image/png": "[encoded data removed]",
      "text/plain": [
       "<Figure size 720x360 with 1 Axes>"
      ]
     },
     "metadata": {
      "needs_background": "light"
     },
     "output_type": "display_data"
    }
   ],
   "source": [
    "# Standardize the data\n",
    "data = df[['value', 'time_epoch']]\n",
    "scaled = StandardScaler().fit_transform(data)\n",
    "data = pd.DataFrame(scaled)\n",
    "\n",
    "# Train isolation forest\n",
    "anomaly_fraction = 0.01\n",
    "######################################################################\n",
    "# ToDo:\n",
    "# 1. Train the iForest model (sklearn.ensemble.IsolationForest) with \n",
    "# standardized data;\n",
    "clf = IsolationForest(n_estimators=50, max_samples='auto', contamination=float(anomaly_fraction),max_features=1.0)\n",
    "clf.fit(data)\n",
    "# 2. Calculate the prediction to df['anomaly'].\n",
    "df['anomaly'] = clf.predict(data)\n",
    "######################################################################\n",
    "\n",
    "# Plot\n",
    "fig, ax = plt.subplots(figsize=(10, 5))\n",
    "######################################################################\n",
    "# ToDo:\n",
    "# 3. Make a subset dataframe \"a\" of timestamp and anomaly values for \n",
    "# plotting.\n",
    "a = df.loc[df['anomaly'] == -1, ['timestamp', 'value']]\n",
    "######################################################################\n",
    "ax.plot(df['timestamp'], df['value'], color='blue')\n",
    "ax.scatter(a['timestamp'],a['value'], color='red')\n",
    "plt.show()"
   ]
  },
  {
   "cell_type": "markdown",
   "metadata": {},
   "source": [
    "#### 2.3 OCSVM\n",
    "\n",
    "OCSVM (One-Class Support Vector Machine) is used for unsupervised outlier detection, implemented based on libsvm. It requires the choice of a kernel and a scalar parameter to define a frontier. The RBF kernel is usually chosen although there exists no exact formula or algorithm to set its bandwidth parameter. This is the default in the scikit-learn implementation."
   ]
  },
  {
   "cell_type": "code",
   "execution_count": 13,
   "metadata": {
    "scrolled": true
   },
   "outputs": [
    {
     "data": {
      "image/png": "[encoded data removed]",
      "text/plain": [
       "<Figure size 720x360 with 1 Axes>"
      ]
     },
     "metadata": {
      "needs_background": "light"
     },
     "output_type": "display_data"
    }
   ],
   "source": [
    "######################################################################\n",
    "# ToDo:\n",
    "# 1. Standardize the data if you think necessary;\n",
    "data = df[['value', 'time_epoch']]\n",
    "scaled = StandardScaler().fit_transform(data)\n",
    "data_scaled = pd.DataFrame(scaled)\n",
    "# 2. Train the OC SVM model (sklearn.svm.OneClassSVM) and get anomaly \n",
    "# prediction;\n",
    "anomaly_fraction = 0.01\n",
    "ocsvm = OneClassSVM(gamma='auto',nu=anomaly_fraction)\n",
    "ocsvm.fit(data_scaled)\n",
    "df['anomaly'] = ocsvm.predict(data_scaled)\n",
    "# 3. Plot for comparison with above.\n",
    "fig, ax = plt.subplots(figsize=(10, 5))\n",
    "a = df.loc[df['anomaly'] == -1, ['timestamp', 'value']]\n",
    "ax.plot(df['timestamp'], df['value'], color='blue')\n",
    "ax.scatter(a['timestamp'],a['value'], color='red')\n",
    "plt.show()\n",
    "######################################################################"
   ]
  },
  {
   "cell_type": "markdown",
   "metadata": {},
   "source": [
    "#### 2.4 RNN\n",
    "\n",
    "RNN (Recurrent Neural Network) is good at recognizing sequences in data and can make predictions based on previous sequences. In anomaly detection, we define an anomaly when the next prediction is distant from RNN's prediction.\n",
    "\n",
    "We will use LSTM (Long Short-Term Memory) in this example for its capability of memorizing older information from a sequence.\n",
    "\n",
    "<font color=green>Note:</font> For this method, we assume that there's no anomaly in the training data."
   ]
  },
  {
   "cell_type": "code",
   "execution_count": 14,
   "metadata": {
    "scrolled": false
   },
   "outputs": [],
   "source": [
    "# Import libraries for RNN\n",
    "from tensorflow import keras\n",
    "from tensorflow.keras import layers\n",
    "from keras.models import Sequential\n",
    "from keras.layers import LSTM\n",
    "from keras.layers import Dense"
   ]
  },
  {
   "cell_type": "code",
   "execution_count": 15,
   "metadata": {},
   "outputs": [],
   "source": [
    "# Creates sequences and their next one points as the prediction targets\n",
    "def sequencize(data, time_step=10):\n",
    "    # eg:\n",
    "    # in:   data=[1,2,3,4,5,6];            time_step=3\n",
    "    # out:  x=[[1,2,3], [2,3,4], [3,4,5]]; y=[4,5,6]\n",
    "    x, y = [], []\n",
    "    for i in range(len(data)):\n",
    "        end_ix = i + time_step\n",
    "        if end_ix > len(data)-1:\n",
    "            break\n",
    "        seq_x, seq_y = data[i:end_ix], data[end_ix]\n",
    "        x.append(seq_x)\n",
    "        y.append(seq_y)\n",
    "    return np.asarray(x), np.asarray(y)"
   ]
  },
  {
   "cell_type": "code",
   "execution_count": 16,
   "metadata": {
    "scrolled": true
   },
   "outputs": [
    {
     "name": "stdout",
     "output_type": "stream",
     "text": [
      "x_train (6207, 30, 1)\n",
      "y_train (6207, 1)\n",
      "x_test (1000, 30, 1)\n",
      "y_test (1000, 1)\n"
     ]
    }
   ],
   "source": [
    "# Standardize the data\n",
    "# For RNN based time series prediction, we don't need an explicit 'time_epoch' column\n",
    "data = df[['value']]\n",
    "scaled = StandardScaler().fit_transform(data)\n",
    "\n",
    "# Parameters\n",
    "prediction_time = 1     # predict only the next 1 point\n",
    "seq_len = 30            # use 30 previous points to predict the next one\n",
    "anomaly_fraction = 0.01\n",
    "test_size = 1000\n",
    "\n",
    "# Make sequences and their prediction targets\n",
    "# y is the next value of the sequence x\n",
    "# In another word: y(t) is the last value of the next sequence x(t+1). We can use this to test our data integrity\n",
    "# Test: x[t+1][seq_len-1][0] == y[t]\n",
    "test = scaled[-test_size-seq_len:]\n",
    "train = scaled[:len(scaled)-test_size-seq_len]\n",
    "x_train, y_train = sequencize(train, time_step=30)\n",
    "x_test, y_test = sequencize(test, time_step=30)\n",
    "\n",
    "print(\"x_train\", x_train.shape)\n",
    "print(\"y_train\", y_train.shape)\n",
    "print(\"x_test\", x_test.shape)\n",
    "print(\"y_test\", y_test.shape)"
   ]
  },
  {
   "cell_type": "markdown",
   "metadata": {},
   "source": [
    "A good article on LSTM based time series prediction: [here](https://machinelearningmastery.com/how-to-develop-lstm-models-for-time-series-forecasting/) for reference."
   ]
  },
  {
   "cell_type": "code",
   "execution_count": 17,
   "metadata": {
    "scrolled": true
   },
   "outputs": [
    {
     "name": "stdout",
     "output_type": "stream",
     "text": [
      "Epoch 1/200\n",
      "194/194 [==============================] - 2s 7ms/step - loss: 0.2082\n",
      "Epoch 2/200\n",
      "194/194 [==============================] - 1s 6ms/step - loss: 0.0719\n",
      "Epoch 3/200\n",
      "194/194 [==============================] - 1s 6ms/step - loss: 0.0531\n",
      "Epoch 4/200\n",
      "194/194 [==============================] - 1s 7ms/step - loss: 0.0415\n",
      "Epoch 5/200\n",
      "194/194 [==============================] - 1s 6ms/step - loss: 0.0406\n",
      "Epoch 6/200\n",
      "194/194 [==============================] - 1s 6ms/step - loss: 0.0395\n",
      "Epoch 7/200\n",
      "194/194 [==============================] - 1s 6ms/step - loss: 0.0387\n",
      "Epoch 8/200\n",
      "194/194 [==============================] - 1s 6ms/step - loss: 0.0380\n",
      "Epoch 9/200\n",
      "194/194 [==============================] - 1s 6ms/step - loss: 0.0376\n",
      "Epoch 10/200\n",
      "194/194 [==============================] - 1s 6ms/step - loss: 0.0372\n",
      "Epoch 11/200\n",
      "194/194 [==============================] - 1s 6ms/step - loss: 0.0378\n",
      "Epoch 12/200\n",
      "194/194 [==============================] - 1s 6ms/step - loss: 0.0368\n",
      "Epoch 13/200\n",
      "194/194 [==============================] - 1s 7ms/step - loss: 0.0375\n",
      "Epoch 14/200\n",
      "194/194 [==============================] - 1s 6ms/step - loss: 0.0369\n",
      "Epoch 15/200\n",
      "194/194 [==============================] - 1s 6ms/step - loss: 0.0365\n",
      "Epoch 16/200\n",
      "194/194 [==============================] - 1s 6ms/step - loss: 0.0362\n",
      "Epoch 17/200\n",
      "194/194 [==============================] - 1s 6ms/step - loss: 0.0364\n",
      "Epoch 18/200\n",
      "194/194 [==============================] - 1s 6ms/step - loss: 0.0370\n",
      "Epoch 19/200\n",
      "194/194 [==============================] - 1s 6ms/step - loss: 0.0363\n",
      "Epoch 20/200\n",
      "194/194 [==============================] - 1s 6ms/step - loss: 0.0369\n",
      "Epoch 21/200\n",
      "194/194 [==============================] - 1s 6ms/step - loss: 0.0363\n",
      "Epoch 22/200\n",
      "194/194 [==============================] - 1s 6ms/step - loss: 0.0360\n",
      "Epoch 23/200\n",
      "194/194 [==============================] - 1s 6ms/step - loss: 0.0363\n",
      "Epoch 24/200\n",
      "194/194 [==============================] - 1s 6ms/step - loss: 0.0362\n",
      "Epoch 25/200\n",
      "194/194 [==============================] - 1s 7ms/step - loss: 0.0364\n",
      "Epoch 26/200\n",
      "194/194 [==============================] - 1s 7ms/step - loss: 0.0358\n",
      "Epoch 27/200\n",
      "194/194 [==============================] - 1s 6ms/step - loss: 0.0360\n",
      "Epoch 28/200\n",
      "194/194 [==============================] - 1s 7ms/step - loss: 0.0361\n",
      "Epoch 29/200\n",
      "194/194 [==============================] - 1s 6ms/step - loss: 0.0360\n",
      "Epoch 30/200\n",
      "194/194 [==============================] - 1s 6ms/step - loss: 0.0363\n",
      "Epoch 31/200\n",
      "194/194 [==============================] - 1s 6ms/step - loss: 0.0358\n",
      "Epoch 32/200\n",
      "194/194 [==============================] - 1s 6ms/step - loss: 0.0361\n",
      "Epoch 33/200\n",
      "194/194 [==============================] - 1s 6ms/step - loss: 0.0358\n",
      "Epoch 34/200\n",
      "194/194 [==============================] - 1s 6ms/step - loss: 0.0356\n",
      "Epoch 35/200\n",
      "194/194 [==============================] - 1s 6ms/step - loss: 0.0354\n",
      "Epoch 36/200\n",
      "194/194 [==============================] - 1s 6ms/step - loss: 0.0363\n",
      "Epoch 37/200\n",
      "194/194 [==============================] - 1s 6ms/step - loss: 0.0355\n",
      "Epoch 38/200\n",
      "194/194 [==============================] - 1s 7ms/step - loss: 0.0354\n",
      "Epoch 39/200\n",
      "194/194 [==============================] - 1s 6ms/step - loss: 0.0353\n",
      "Epoch 40/200\n",
      "194/194 [==============================] - 1s 6ms/step - loss: 0.0352\n",
      "Epoch 41/200\n",
      "194/194 [==============================] - 1s 7ms/step - loss: 0.0350\n",
      "Epoch 42/200\n",
      "194/194 [==============================] - 1s 7ms/step - loss: 0.0353\n",
      "Epoch 43/200\n",
      "194/194 [==============================] - 1s 6ms/step - loss: 0.0349\n",
      "Epoch 44/200\n",
      "194/194 [==============================] - 1s 7ms/step - loss: 0.0353\n",
      "Epoch 45/200\n",
      "194/194 [==============================] - 1s 6ms/step - loss: 0.0350\n",
      "Epoch 46/200\n",
      "194/194 [==============================] - 1s 6ms/step - loss: 0.0352\n",
      "Epoch 47/200\n",
      "194/194 [==============================] - 1s 6ms/step - loss: 0.0350\n",
      "Epoch 48/200\n",
      "194/194 [==============================] - 1s 6ms/step - loss: 0.0350\n",
      "Epoch 49/200\n",
      "194/194 [==============================] - 1s 6ms/step - loss: 0.0346\n",
      "Epoch 50/200\n",
      "194/194 [==============================] - 1s 7ms/step - loss: 0.0350\n",
      "Epoch 51/200\n",
      "194/194 [==============================] - 1s 7ms/step - loss: 0.0349\n",
      "Epoch 52/200\n",
      "194/194 [==============================] - 1s 6ms/step - loss: 0.0349\n",
      "Epoch 53/200\n",
      "194/194 [==============================] - 1s 6ms/step - loss: 0.0343\n",
      "Epoch 54/200\n",
      "194/194 [==============================] - 1s 6ms/step - loss: 0.0343\n",
      "Epoch 55/200\n",
      "194/194 [==============================] - 1s 6ms/step - loss: 0.0343\n",
      "Epoch 56/200\n",
      "194/194 [==============================] - 1s 6ms/step - loss: 0.0342\n",
      "Epoch 57/200\n",
      "194/194 [==============================] - 1s 6ms/step - loss: 0.0342\n",
      "Epoch 58/200\n",
      "194/194 [==============================] - 1s 6ms/step - loss: 0.0344\n",
      "Epoch 59/200\n",
      "194/194 [==============================] - 1s 6ms/step - loss: 0.0342\n",
      "Epoch 60/200\n",
      "194/194 [==============================] - 1s 6ms/step - loss: 0.0343\n",
      "Epoch 61/200\n",
      "194/194 [==============================] - 1s 7ms/step - loss: 0.0344\n",
      "Epoch 62/200\n",
      "194/194 [==============================] - 1s 6ms/step - loss: 0.0338\n",
      "Epoch 63/200\n",
      "194/194 [==============================] - 1s 6ms/step - loss: 0.0340\n",
      "Epoch 64/200\n",
      "194/194 [==============================] - 1s 7ms/step - loss: 0.0341\n",
      "Epoch 65/200\n",
      "194/194 [==============================] - 1s 6ms/step - loss: 0.0339\n",
      "Epoch 66/200\n",
      "194/194 [==============================] - 1s 6ms/step - loss: 0.0339\n",
      "Epoch 67/200\n",
      "194/194 [==============================] - 1s 6ms/step - loss: 0.0575\n",
      "Epoch 68/200\n",
      "194/194 [==============================] - 1s 7ms/step - loss: 0.0387\n",
      "Epoch 69/200\n",
      "194/194 [==============================] - 1s 6ms/step - loss: 0.0353\n",
      "Epoch 70/200\n",
      "194/194 [==============================] - 1s 6ms/step - loss: 0.0348\n",
      "Epoch 71/200\n",
      "194/194 [==============================] - 1s 6ms/step - loss: 0.0348\n",
      "Epoch 72/200\n",
      "194/194 [==============================] - 1s 6ms/step - loss: 0.0345\n",
      "Epoch 73/200\n",
      "194/194 [==============================] - 1s 6ms/step - loss: 0.0345\n",
      "Epoch 74/200\n",
      "194/194 [==============================] - 1s 6ms/step - loss: 0.0341\n",
      "Epoch 75/200\n",
      "194/194 [==============================] - 1s 6ms/step - loss: 0.0340\n",
      "Epoch 76/200\n",
      "194/194 [==============================] - 1s 7ms/step - loss: 0.0340\n",
      "Epoch 77/200\n",
      "194/194 [==============================] - 1s 6ms/step - loss: 0.0340\n",
      "Epoch 78/200\n",
      "194/194 [==============================] - 1s 6ms/step - loss: 0.0339\n",
      "Epoch 79/200\n",
      "194/194 [==============================] - 1s 7ms/step - loss: 0.0340\n",
      "Epoch 80/200\n",
      "194/194 [==============================] - 1s 7ms/step - loss: 0.0339\n",
      "Epoch 81/200\n",
      "194/194 [==============================] - 1s 7ms/step - loss: 0.0337\n",
      "Epoch 82/200\n",
      "194/194 [==============================] - 1s 7ms/step - loss: 0.0336\n",
      "Epoch 83/200\n",
      "194/194 [==============================] - 1s 7ms/step - loss: 0.0337\n",
      "Epoch 84/200\n",
      "194/194 [==============================] - 1s 7ms/step - loss: 0.0335\n",
      "Epoch 85/200\n",
      "194/194 [==============================] - 1s 7ms/step - loss: 0.0337\n",
      "Epoch 86/200\n",
      "194/194 [==============================] - 1s 7ms/step - loss: 0.0335\n",
      "Epoch 87/200\n",
      "194/194 [==============================] - 1s 7ms/step - loss: 0.0334\n",
      "Epoch 88/200\n",
      "194/194 [==============================] - 1s 7ms/step - loss: 0.0335\n",
      "Epoch 89/200\n",
      "194/194 [==============================] - 1s 7ms/step - loss: 0.0334\n",
      "Epoch 90/200\n",
      "194/194 [==============================] - 1s 7ms/step - loss: 0.0335\n",
      "Epoch 91/200\n",
      "194/194 [==============================] - 1s 7ms/step - loss: 261216.2969\n",
      "Epoch 92/200\n",
      "194/194 [==============================] - 1s 7ms/step - loss: 0.0377\n",
      "Epoch 93/200\n",
      "194/194 [==============================] - 1s 7ms/step - loss: 0.0365\n",
      "Epoch 94/200\n",
      "194/194 [==============================] - 1s 6ms/step - loss: 0.0357\n",
      "Epoch 95/200\n",
      "194/194 [==============================] - 1s 6ms/step - loss: 0.0353\n",
      "Epoch 96/200\n",
      "194/194 [==============================] - 1s 6ms/step - loss: 0.0349\n",
      "Epoch 97/200\n",
      "194/194 [==============================] - 1s 6ms/step - loss: 0.0347\n",
      "Epoch 98/200\n",
      "194/194 [==============================] - 1s 7ms/step - loss: 0.0344\n",
      "Epoch 99/200\n",
      "194/194 [==============================] - 1s 6ms/step - loss: 0.0343\n",
      "Epoch 100/200\n",
      "194/194 [==============================] - 1s 6ms/step - loss: 0.0342\n",
      "Epoch 101/200\n",
      "194/194 [==============================] - 1s 7ms/step - loss: 0.0342\n",
      "Epoch 102/200\n",
      "194/194 [==============================] - 1s 6ms/step - loss: 0.0340\n",
      "Epoch 103/200\n",
      "194/194 [==============================] - 1s 6ms/step - loss: 0.0341\n",
      "Epoch 104/200\n",
      "194/194 [==============================] - 1s 6ms/step - loss: 0.0339\n",
      "Epoch 105/200\n",
      "194/194 [==============================] - 1s 6ms/step - loss: 0.0338\n",
      "Epoch 106/200\n",
      "194/194 [==============================] - 1s 6ms/step - loss: 0.0339\n",
      "Epoch 107/200\n",
      "194/194 [==============================] - 1s 6ms/step - loss: 0.0337\n",
      "Epoch 108/200\n",
      "194/194 [==============================] - 1s 6ms/step - loss: 0.0339\n",
      "Epoch 109/200\n",
      "194/194 [==============================] - 1s 6ms/step - loss: 0.0335\n",
      "Epoch 110/200\n",
      "194/194 [==============================] - 1s 7ms/step - loss: 0.0336\n",
      "Epoch 111/200\n",
      "194/194 [==============================] - 1s 6ms/step - loss: 0.0336\n",
      "Epoch 112/200\n",
      "194/194 [==============================] - 1s 6ms/step - loss: 0.0335\n",
      "Epoch 113/200\n",
      "194/194 [==============================] - 1s 6ms/step - loss: 0.0334\n",
      "Epoch 114/200\n",
      "194/194 [==============================] - 1s 7ms/step - loss: 0.0334\n",
      "Epoch 115/200\n",
      "194/194 [==============================] - 1s 6ms/step - loss: 0.0335\n",
      "Epoch 116/200\n",
      "194/194 [==============================] - 1s 6ms/step - loss: 0.0334\n",
      "Epoch 117/200\n",
      "194/194 [==============================] - 1s 6ms/step - loss: 0.0335\n",
      "Epoch 118/200\n",
      "194/194 [==============================] - 1s 6ms/step - loss: 0.0334\n",
      "Epoch 119/200\n",
      "194/194 [==============================] - 1s 7ms/step - loss: 0.0333\n",
      "Epoch 120/200\n",
      "194/194 [==============================] - 1s 7ms/step - loss: 0.0335\n",
      "Epoch 121/200\n",
      "194/194 [==============================] - 1s 7ms/step - loss: 0.0334\n",
      "Epoch 122/200\n",
      "194/194 [==============================] - 1s 6ms/step - loss: 0.0333\n",
      "Epoch 123/200\n",
      "194/194 [==============================] - 1s 7ms/step - loss: 0.0334\n",
      "Epoch 124/200\n",
      "194/194 [==============================] - 1s 7ms/step - loss: 0.0335\n",
      "Epoch 125/200\n",
      "194/194 [==============================] - 1s 7ms/step - loss: 0.0331\n",
      "Epoch 126/200\n",
      "194/194 [==============================] - 2s 8ms/step - loss: 0.0333\n",
      "Epoch 127/200\n",
      "194/194 [==============================] - 1s 7ms/step - loss: 0.0333\n",
      "Epoch 128/200\n",
      "194/194 [==============================] - 1s 7ms/step - loss: 0.0330\n",
      "Epoch 129/200\n",
      "194/194 [==============================] - 2s 8ms/step - loss: 0.0333\n",
      "Epoch 130/200\n",
      "194/194 [==============================] - 1s 7ms/step - loss: 0.0331\n",
      "Epoch 131/200\n",
      "194/194 [==============================] - 1s 7ms/step - loss: 0.0332\n",
      "Epoch 132/200\n",
      "194/194 [==============================] - 1s 7ms/step - loss: 0.0331\n",
      "Epoch 133/200\n",
      "194/194 [==============================] - 1s 7ms/step - loss: 0.0331\n",
      "Epoch 134/200\n",
      "194/194 [==============================] - 1s 7ms/step - loss: 0.0331\n",
      "Epoch 135/200\n",
      "194/194 [==============================] - 1s 7ms/step - loss: 0.0331\n",
      "Epoch 136/200\n",
      "194/194 [==============================] - 1s 7ms/step - loss: 0.0332\n",
      "Epoch 137/200\n",
      "194/194 [==============================] - 1s 7ms/step - loss: 0.0330\n",
      "Epoch 138/200\n",
      "194/194 [==============================] - 1s 7ms/step - loss: 0.0328\n",
      "Epoch 139/200\n",
      "194/194 [==============================] - 1s 7ms/step - loss: 0.0331\n",
      "Epoch 140/200\n",
      "194/194 [==============================] - 1s 6ms/step - loss: 0.0330\n",
      "Epoch 141/200\n",
      "194/194 [==============================] - 1s 7ms/step - loss: 0.0330\n",
      "Epoch 142/200\n",
      "194/194 [==============================] - 1s 7ms/step - loss: 0.0328\n",
      "Epoch 143/200\n",
      "194/194 [==============================] - 1s 7ms/step - loss: 0.0329\n",
      "Epoch 144/200\n",
      "194/194 [==============================] - 1s 7ms/step - loss: 0.0329\n",
      "Epoch 145/200\n",
      "194/194 [==============================] - 1s 7ms/step - loss: 0.0328\n",
      "Epoch 146/200\n",
      "194/194 [==============================] - 1s 6ms/step - loss: 0.0328\n",
      "Epoch 147/200\n",
      "194/194 [==============================] - 1s 6ms/step - loss: 0.0328\n",
      "Epoch 148/200\n",
      "194/194 [==============================] - 1s 6ms/step - loss: 0.0327\n",
      "Epoch 149/200\n",
      "194/194 [==============================] - 1s 6ms/step - loss: 0.0327\n",
      "Epoch 150/200\n",
      "194/194 [==============================] - 1s 7ms/step - loss: 0.0328\n",
      "Epoch 151/200\n",
      "194/194 [==============================] - 1s 6ms/step - loss: 0.0328\n",
      "Epoch 152/200\n",
      "194/194 [==============================] - 1s 6ms/step - loss: 0.0327\n",
      "Epoch 153/200\n",
      "194/194 [==============================] - 1s 6ms/step - loss: 0.0327\n",
      "Epoch 154/200\n",
      "194/194 [==============================] - 1s 6ms/step - loss: 0.0327\n",
      "Epoch 155/200\n",
      "194/194 [==============================] - 1s 6ms/step - loss: 0.0326\n",
      "Epoch 156/200\n",
      "194/194 [==============================] - 1s 7ms/step - loss: 0.0327\n",
      "Epoch 157/200\n",
      "194/194 [==============================] - 1s 6ms/step - loss: 0.0328\n",
      "Epoch 158/200\n",
      "194/194 [==============================] - 1s 7ms/step - loss: 0.0327\n",
      "Epoch 159/200\n",
      "194/194 [==============================] - 1s 7ms/step - loss: 0.0326\n",
      "Epoch 160/200\n",
      "194/194 [==============================] - 1s 7ms/step - loss: 0.0327\n",
      "Epoch 161/200\n",
      "194/194 [==============================] - 1s 7ms/step - loss: 0.0326\n",
      "Epoch 162/200\n",
      "194/194 [==============================] - 1s 7ms/step - loss: 0.0327\n",
      "Epoch 163/200\n",
      "194/194 [==============================] - 1s 7ms/step - loss: 0.0327\n",
      "Epoch 164/200\n",
      "194/194 [==============================] - 1s 7ms/step - loss: 0.0327\n",
      "Epoch 165/200\n",
      "194/194 [==============================] - 1s 7ms/step - loss: 0.0328\n",
      "Epoch 166/200\n",
      "194/194 [==============================] - 1s 7ms/step - loss: 0.0325\n",
      "Epoch 167/200\n",
      "194/194 [==============================] - 1s 7ms/step - loss: 0.0325\n",
      "Epoch 168/200\n",
      "194/194 [==============================] - 1s 7ms/step - loss: 0.0326\n",
      "Epoch 169/200\n",
      "194/194 [==============================] - 1s 7ms/step - loss: 0.0325\n",
      "Epoch 170/200\n",
      "194/194 [==============================] - 1s 7ms/step - loss: 0.0324\n",
      "Epoch 171/200\n",
      "194/194 [==============================] - 1s 7ms/step - loss: 0.0325\n",
      "Epoch 172/200\n",
      "194/194 [==============================] - 1s 7ms/step - loss: 0.0325\n",
      "Epoch 173/200\n",
      "194/194 [==============================] - 1s 7ms/step - loss: 0.0325\n",
      "Epoch 174/200\n",
      "194/194 [==============================] - 1s 7ms/step - loss: 0.0324\n",
      "Epoch 175/200\n",
      "194/194 [==============================] - 1s 7ms/step - loss: 0.0326\n",
      "Epoch 176/200\n",
      "194/194 [==============================] - 1s 7ms/step - loss: 0.0326\n",
      "Epoch 177/200\n",
      "194/194 [==============================] - 1s 7ms/step - loss: 0.0323\n",
      "Epoch 178/200\n",
      "194/194 [==============================] - 1s 6ms/step - loss: 0.0324\n",
      "Epoch 179/200\n",
      "194/194 [==============================] - 1s 7ms/step - loss: 0.0323\n",
      "Epoch 180/200\n",
      "194/194 [==============================] - 1s 6ms/step - loss: 0.0324\n",
      "Epoch 181/200\n",
      "194/194 [==============================] - 1s 7ms/step - loss: 0.0324\n",
      "Epoch 182/200\n",
      "194/194 [==============================] - 1s 6ms/step - loss: 0.0324\n",
      "Epoch 183/200\n",
      "194/194 [==============================] - 1s 6ms/step - loss: 0.0322\n",
      "Epoch 184/200\n",
      "194/194 [==============================] - 1s 7ms/step - loss: 0.0323\n",
      "Epoch 185/200\n",
      "194/194 [==============================] - 1s 6ms/step - loss: 0.0323\n",
      "Epoch 186/200\n",
      "194/194 [==============================] - 1s 7ms/step - loss: 0.0323\n",
      "Epoch 187/200\n",
      "194/194 [==============================] - 1s 7ms/step - loss: 0.0322\n",
      "Epoch 188/200\n",
      "194/194 [==============================] - 1s 6ms/step - loss: 0.0323\n",
      "Epoch 189/200\n",
      "194/194 [==============================] - 1s 6ms/step - loss: 0.0321\n",
      "Epoch 190/200\n",
      "194/194 [==============================] - 1s 6ms/step - loss: 0.0320\n",
      "Epoch 191/200\n",
      "194/194 [==============================] - 1s 6ms/step - loss: 0.0322\n",
      "Epoch 192/200\n",
      "194/194 [==============================] - 1s 6ms/step - loss: 0.0323\n",
      "Epoch 193/200\n",
      "194/194 [==============================] - 1s 6ms/step - loss: 0.0323\n",
      "Epoch 194/200\n",
      "194/194 [==============================] - 1s 6ms/step - loss: 0.0320\n",
      "Epoch 195/200\n",
      "194/194 [==============================] - 1s 6ms/step - loss: 0.0321\n",
      "Epoch 196/200\n"
     ]
    },
    {
     "name": "stdout",
     "output_type": "stream",
     "text": [
      "194/194 [==============================] - 1s 6ms/step - loss: 0.0320\n",
      "Epoch 197/200\n",
      "194/194 [==============================] - 1s 7ms/step - loss: 0.0321\n",
      "Epoch 198/200\n",
      "194/194 [==============================] - 1s 7ms/step - loss: 0.0321\n",
      "Epoch 199/200\n",
      "194/194 [==============================] - 1s 6ms/step - loss: 0.0322\n",
      "Epoch 200/200\n",
      "194/194 [==============================] - 1s 7ms/step - loss: 0.0319\n"
     ]
    },
    {
     "data": {
      "text/plain": [
       "<keras.callbacks.History at 0x19b5c60bc48>"
      ]
     },
     "execution_count": 17,
     "metadata": {},
     "output_type": "execute_result"
    }
   ],
   "source": [
    "######################################################################\n",
    "# ToDo:\n",
    "# 1. Build the LSTM model (you can refer to the article above);\n",
    "# 2. Train the model with preprecessed data provided above;\n",
    "# 3. Predict on test data and calculate anomalies accordingly;\n",
    "# 4. Plot for comparison.\n",
    "######################################################################\n",
    "\n",
    "model = Sequential()\n",
    "model.add(LSTM(50, activation='relu', input_shape=(30,1)))\n",
    "model.add(Dense(1))\n",
    "model.compile(optimizer='adam', loss='mse')\n",
    "\n",
    "n_features = 1\n",
    "X = x_train\n",
    "X = x_train.reshape((X.shape[0], X.shape[1], n_features))\n",
    "y = y_train\n",
    "model.fit(X,y, epochs=200, verbose=1)"
   ]
  },
  {
   "cell_type": "code",
   "execution_count": 18,
   "metadata": {},
   "outputs": [
    {
     "name": "stdout",
     "output_type": "stream",
     "text": [
      "32/32 [==============================] - 0s 2ms/step\n"
     ]
    }
   ],
   "source": [
    "XT = x_test\n",
    "XT = XT.reshape((XT.shape[0], XT.shape[1], n_features))\n",
    "yhat = model.predict(XT, verbose=1)"
   ]
  },
  {
   "cell_type": "code",
   "execution_count": 19,
   "metadata": {
    "scrolled": true
   },
   "outputs": [],
   "source": [
    "indexes = [i for i in range(1000)]\n",
    "indexes = df['timestamp'][-1000:]"
   ]
  },
  {
   "cell_type": "code",
   "execution_count": 20,
   "metadata": {},
   "outputs": [
    {
     "name": "stdout",
     "output_type": "stream",
     "text": [
      "7267\n"
     ]
    },
    {
     "data": {
      "image/png": "[encoded data removed]",
      "text/plain": [
       "<Figure size 720x360 with 1 Axes>"
      ]
     },
     "metadata": {
      "needs_background": "light"
     },
     "output_type": "display_data"
    }
   ],
   "source": [
    "print(len(scaled))\n",
    "\n",
    "fig, ax = plt.subplots(figsize=(10, 5))\n",
    "diff = yhat - y_test\n",
    "second_indexes = []\n",
    "vals = []\n",
    "one_percent = anomaly_fraction * len(df['timestamp'])\n",
    "rounded_percent = round(one_percent)\n",
    "a = []\n",
    "\n",
    "for i in range(1000):\n",
    "    a.append([abs(diff[i][0]), y_test[i] ,df['timestamp'][6267+i], df['value'][6267+i]])\n",
    "\n",
    "a = sorted(a)\n",
    "\n",
    "a = a[-rounded_percent:];\n",
    "\n",
    "b = [a[i][3] for i in range(rounded_percent)] # vals\n",
    "c = [a[i][2] for i in range(rounded_percent)] # timestamps\n",
    "\n",
    "# plot the anamomalies \n",
    "ax.plot(df['timestamp'], df['value'], color='blue')\n",
    "ax.scatter(c, b, color='red')\n",
    "plt.show()"
   ]
  },
  {
   "cell_type": "markdown",
   "metadata": {},
   "source": [
    "From the above results, what do you observe? Which algorithm do you think is the best? (This question will not be scored, feel free to share your observation and understanding)\n",
    "\n",
    "<span style=\"color:blue\">--- Your answer here ---</span>\n",
    "I would say that One-Class Support Vector Machine is the best because anomalies detected looked rather spread out and looks like the extreme points on the graph."
   ]
  },
  {
   "cell_type": "markdown",
   "metadata": {},
   "source": [
    "Related Reading:\n",
    "\n",
    "[1]. [Novelty and Outlier Detection](https://scikit-learn.org/stable/modules/outlier_detection.html#outlier-detection)\n",
    "\n",
    "[2]. [Comparing anomaly detection algorithms for outlier detection on toy datasets](https://scikit-learn.org/stable/auto_examples/miscellaneous/plot_anomaly_comparison.html?highlight=anomaly)\n",
    "\n",
    "[3]. [Timeseries anomaly detection using an Autoencoder](https://keras.io/examples/timeseries/timeseries_anomaly_detection/)\n",
    "\n",
    "[4]. [How to Evaluate the Quality of Unsupervised Anomaly Detection Algorithms?](https://arxiv.org/pdf/1607.01152.pdf)"
   ]
  }
 ],
 "metadata": {
  "kernelspec": {
   "display_name": "Python 3",
   "language": "python",
   "name": "python3"
  },
  "language_info": {
   "codemirror_mode": {
    "name": "ipython",
    "version": 3
   },
   "file_extension": ".py",
   "mimetype": "text/x-python",
   "name": "python",
   "nbconvert_exporter": "python",
   "pygments_lexer": "ipython3",
   "version": "3.7.6"
  }
 },
 "nbformat": 4,
 "nbformat_minor": 2
}
